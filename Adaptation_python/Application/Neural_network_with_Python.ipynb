{
 "cells": [
  {
   "cell_type": "markdown",
   "id": "b252e02e",
   "metadata": {},
   "source": [
    "# <center> Réseau de neurones avec Python </center>\n",
    "\n",
    "Adaptation en python du code (Javascript) de :\n",
    "\n",
    "- *HEUDIN J.-C., Comprendre le Deep Learning, une introduction aux réseaux de neurones, Science-eBook, Paris, 2016, ISBN:979-1091245449, p.87-117.*"
   ]
  },
  {
   "cell_type": "code",
   "execution_count": 448,
   "id": "a663d986",
   "metadata": {},
   "outputs": [],
   "source": [
    "import math\n",
    "\n",
    "\n",
    "# trois couches de neurones\n",
    "Input = [0, 0, 0, 0]\n",
    "Hidden = [0, 0, 0, 0]\n",
    "Output = [0, 0]\n",
    "\n",
    "# poids synaptiques\n",
    "Wh = [[0.5, 0.5, 0.5, 0.5],\n",
    "    [0.5, 0.5, 0.5, 0.5],\n",
    "    [0.5, 0.5, 0.5, 0.5],\n",
    "    [0.5, 0.5, 0.5, 0.5]];\n",
    "# poids des connexions de la couche cachée à la couche de sortie (hidden => output)\n",
    "Wo = [[0.5, 0.5, 0.5, 0.5],\n",
    "    [0.5, 0.5, 0.5, 0.5]];\n",
    "\n",
    "# taux d'apprentissage\n",
    "alpha = 0.5\n",
    "\n",
    "\n",
    "# données d'entrées \n",
    "input_data = [1, 0, 1, 0]\n",
    "\n",
    "\n",
    "# liste de données que l'on souhaite obtenir en sortie\n",
    "Target = [1, 0]\n",
    "\n",
    "\n",
    "# fonction d'activation (sigmoïde)\n",
    "def sigmoid(x):\n",
    "    return 1/(1 + math.pow(math.e, (-1 * x)) )\n",
    "\n",
    "# propagation des données (input => output)\n",
    "def propagate(d):\n",
    "    global Input, Hidden, Output, Wh, Wo\n",
    "    for x in range(len(Input)) : \n",
    "        Input[x] = d[x]\n",
    "\n",
    "    # propagation dans la couche cachée\n",
    "    Xh = [0, 0, 0, 0]\n",
    "    # calcul de la somme pondérée avec une double itération\n",
    "    for j in range(len(Hidden)):\n",
    "        for i in range(len(Input)): \n",
    "            Xh[j] += Wh[j][i] * Input[i]\n",
    "       \n",
    "    # fonction d'activation sur les valeurs de Xh\n",
    "    for j in range(len(Hidden)) :\n",
    "        Hidden[j] = sigmoid(Xh[j])\n",
    "\n",
    "    # propagation vers la couche de sortie \n",
    "    Xo = [0, 0]\n",
    "    for k in range(len(Output)) :\n",
    "        for j in range(len(Hidden)) :\n",
    "            Xo[k] += Wo[k][j] * Hidden[j]\n",
    "\n",
    "    # fonction d'activation sur les valeurs de Xo\n",
    "    for k in range(len(Output)) :\n",
    "        Output[k] = sigmoid(Xo[k]) \n",
    "    \n",
    "    return Output\n",
    "\n",
    "# liste contenant les erreurs (différence entre erreur obtenue - erreur souhaitée)\n",
    "Err = []\n",
    "\n",
    "# fonction d'apprentissage\n",
    "def learn(d): \n",
    "\n",
    "    # calcul de l'erreur : Target - Output\n",
    "    for k in range(len(Output)):\n",
    "        err = Target[k] - Output[k]\n",
    "        # on ajoute la différence à la liste\n",
    "        Err.append(err)\n",
    "\n",
    "\n",
    "    # calculer les gradients d'erreurs de la couche de sortie\n",
    "    Wog = [[0, 0, 0, 0], [0, 0, 0, 0]] \n",
    "\n",
    "    for k in range(len(Output)):\n",
    "        for j in range(len(Hidden)):\n",
    "            Wog[k][j] = -Err[k] * Output[k] * (1 - Output[k]) * Hidden[j]\n",
    "\n",
    "    \n",
    "    # calculer les gradients d'erreur de la couche cachée\n",
    "    Whg = [[0, 0, 0, 0], [0, 0, 0, 0],\n",
    "            [0, 0, 0, 0],[0, 0, 0, 0]]\n",
    "\n",
    "    for j in range(len(Hidden)):\n",
    "        for i in range(len(Input)):\n",
    "            e = 0\n",
    "            for k in range(len(Output)):\n",
    "                e += Wo[k][j] * Err[k]\n",
    "            Whg[j][i] = -e * Hidden[j] * (1 - Hidden[j]) * Input[i]\n",
    "\n",
    "    # mise à jour des poids de sortie\n",
    "    for k in range(len(Output)):\n",
    "        for j in range(len(Hidden)):\n",
    "            Wo[k][j] -= alpha * Wog[k][j]\n",
    "\n",
    "    # mise à jour des poids de la couche cachée\n",
    "    for j in range(len(Hidden)):\n",
    "        for i in range(len(Input)):\n",
    "            Wh[j][i] -= alpha * Whg[j][i]\n",
    "\n",
    "    \n",
    "    return Output\n",
    "\n",
    "\n",
    "def resultat():\n",
    "    print(\"----------------------------\")\n",
    "    print(\"Sortie 1 : \", Output[0])\n",
    "    print(\"Erreur 1 : \", Target[0] - Output[0])\n",
    "    print(\"Sortie 2 : \", Output[1])\n",
    "    print(\"Erreur 2 : \", Target[1] - Output[1])\n",
    "    print(\"----------------------------\")\n",
    "    print(\"Valeur attendue : \", Target)\n",
    "    print(\"Valeur obtenue : \", Output)"
   ]
  },
  {
   "cell_type": "markdown",
   "id": "2bf91adb",
   "metadata": {},
   "source": [
    "## Test du réseau "
   ]
  },
  {
   "cell_type": "code",
   "execution_count": 432,
   "id": "87557936",
   "metadata": {},
   "outputs": [
    {
     "name": "stdout",
     "output_type": "stream",
     "text": [
      "----------------------------\n",
      "Sortie 1 :  0.8376042493105621\n",
      "Erreur 1 :  0.1623957506894379\n",
      "Sortie 2 :  0.4354408852228531\n",
      "Erreur 2 :  -0.4354408852228531\n",
      "----------------------------\n",
      "Valeur attendue :  [1, 0]\n",
      "Valeur obtenue :  [0.8376042493105621, 0.4354408852228531]\n"
     ]
    }
   ],
   "source": [
    "propagate(input_data)\n",
    "learn(input_data)\n",
    "resultat()"
   ]
  },
  {
   "cell_type": "markdown",
   "id": "ab5f52e1",
   "metadata": {},
   "source": [
    "## Itérations pour reproduire le calcul\n",
    "\n",
    "### 10 itérations :"
   ]
  },
  {
   "cell_type": "code",
   "execution_count": 442,
   "id": "56e7a369",
   "metadata": {},
   "outputs": [
    {
     "name": "stdout",
     "output_type": "stream",
     "text": [
      "----------------------------\n",
      "Sortie 1 :  0.8322186305905105\n",
      "Erreur 1 :  0.1677813694094895\n",
      "Sortie 2 :  0.48268735718413575\n",
      "Erreur 2 :  -0.48268735718413575\n",
      "----------------------------\n",
      "Valeur attendue :  [1, 0]\n",
      "Valeur obtenue :  [0.8322186305905105, 0.48268735718413575]\n"
     ]
    }
   ],
   "source": [
    "for x in range(10):\n",
    "    propagate(input_data)\n",
    "    learn(input_data)\n",
    "    stop += 1\n",
    "\n",
    "resultat()"
   ]
  },
  {
   "cell_type": "markdown",
   "id": "7342ef02",
   "metadata": {},
   "source": [
    "### 20 itérations : "
   ]
  },
  {
   "cell_type": "code",
   "execution_count": 443,
   "id": "37eb5b00",
   "metadata": {},
   "outputs": [
    {
     "name": "stdout",
     "output_type": "stream",
     "text": [
      "----------------------------\n",
      "Sortie 1 :  0.9343306562234021\n",
      "Erreur 1 :  0.06566934377659794\n",
      "Sortie 2 :  0.044187567490968055\n",
      "Erreur 2 :  -0.044187567490968055\n",
      "----------------------------\n",
      "Valeur attendue :  [1, 0]\n",
      "Valeur obtenue :  [0.9343306562234021, 0.044187567490968055]\n"
     ]
    }
   ],
   "source": [
    "for x in range(20):\n",
    "    propagate(input_data)\n",
    "    learn(input_data)\n",
    "\n",
    "resultat()"
   ]
  },
  {
   "cell_type": "markdown",
   "id": "023a29b5",
   "metadata": {},
   "source": [
    "### 100 itérations : "
   ]
  },
  {
   "cell_type": "code",
   "execution_count": 444,
   "id": "2541790f",
   "metadata": {},
   "outputs": [
    {
     "name": "stdout",
     "output_type": "stream",
     "text": [
      "----------------------------\n",
      "Sortie 1 :  0.9819262444849162\n",
      "Erreur 1 :  0.018073755515083834\n",
      "Sortie 2 :  0.005126941904560985\n",
      "Erreur 2 :  -0.005126941904560985\n",
      "----------------------------\n",
      "Valeur attendue :  [1, 0]\n",
      "Valeur obtenue :  [0.9819262444849162, 0.005126941904560985]\n"
     ]
    }
   ],
   "source": [
    "for x in range(100):\n",
    "    propagate(input_data)\n",
    "    learn(input_data)\n",
    "\n",
    "resultat()"
   ]
  },
  {
   "cell_type": "markdown",
   "id": "6d537801",
   "metadata": {},
   "source": [
    "---\n",
    "\n",
    "## Exemple : "
   ]
  },
  {
   "cell_type": "code",
   "execution_count": 453,
   "id": "4cf5994e",
   "metadata": {},
   "outputs": [],
   "source": [
    "from tqdm import tqdm\n",
    "import time\n",
    "\n",
    "def resultat_simple():\n",
    "        print(\"Valeur attendue : \", Target)\n",
    "        print(\"Valeur obtenue : \", Output, end=\"----------\")\n",
    "        \n",
    "def application():\n",
    "    propagate(input_data)\n",
    "    learn(input_data)\n",
    "    resultat_simple()"
   ]
  },
  {
   "cell_type": "code",
   "execution_count": 452,
   "id": "e532358a",
   "metadata": {},
   "outputs": [
    {
     "name": "stderr",
     "output_type": "stream",
     "text": [
      "\r",
      "tqdm() Progress Bar:   0%|                                                                      | 0/20 [00:00<?, ?it/s]"
     ]
    },
    {
     "name": "stdout",
     "output_type": "stream",
     "text": [
      "Valeur attendue :  [1, 0]\n",
      "Valeur obtenue :  [0.8572186010237544, 0.2997267819414524]----------"
     ]
    },
    {
     "name": "stderr",
     "output_type": "stream",
     "text": [
      "\r",
      "tqdm() Progress Bar:   5%|███                                                           | 1/20 [00:02<00:47,  2.52s/it]"
     ]
    },
    {
     "name": "stdout",
     "output_type": "stream",
     "text": [
      "Valeur attendue :  [1, 0]\n",
      "Valeur obtenue :  [0.8643930189917282, 0.26010212849567976]----------"
     ]
    },
    {
     "name": "stderr",
     "output_type": "stream",
     "text": [
      "\r",
      "tqdm() Progress Bar:  10%|██████▏                                                       | 2/20 [00:05<00:45,  2.52s/it]"
     ]
    },
    {
     "name": "stdout",
     "output_type": "stream",
     "text": [
      "Valeur attendue :  [1, 0]\n",
      "Valeur obtenue :  [0.8715831966971647, 0.22461161325844156]----------"
     ]
    },
    {
     "name": "stderr",
     "output_type": "stream",
     "text": [
      "\r",
      "tqdm() Progress Bar:  15%|█████████▎                                                    | 3/20 [00:07<00:42,  2.52s/it]"
     ]
    },
    {
     "name": "stdout",
     "output_type": "stream",
     "text": [
      "Valeur attendue :  [1, 0]\n",
      "Valeur obtenue :  [0.8786201766549162, 0.19355090518409207]----------"
     ]
    },
    {
     "name": "stderr",
     "output_type": "stream",
     "text": [
      "tqdm() Progress Bar:  15%|█████████▎                                                    | 3/20 [00:10<00:57,  3.36s/it]\n"
     ]
    },
    {
     "ename": "KeyboardInterrupt",
     "evalue": "",
     "output_type": "error",
     "traceback": [
      "\u001b[1;31m---------------------------------------------------------------------------\u001b[0m",
      "\u001b[1;31mKeyboardInterrupt\u001b[0m                         Traceback (most recent call last)",
      "Input \u001b[1;32mIn [452]\u001b[0m, in \u001b[0;36m<cell line: 3>\u001b[1;34m()\u001b[0m\n\u001b[0;32m      6\u001b[0m learn(input_data)\n\u001b[0;32m      7\u001b[0m resultat_simple()\n\u001b[1;32m----> 8\u001b[0m \u001b[43mtime\u001b[49m\u001b[38;5;241;43m.\u001b[39;49m\u001b[43msleep\u001b[49m\u001b[43m(\u001b[49m\u001b[38;5;241;43m2\u001b[39;49m\u001b[43m)\u001b[49m\n",
      "\u001b[1;31mKeyboardInterrupt\u001b[0m: "
     ]
    }
   ],
   "source": [
    "from tqdm import tqdm\n",
    "import time\n",
    "for i in tqdm(range(20), desc = 'tqdm() Progress Bar'):\n",
    "    time.sleep(0.5)\n",
    "    propagate(input_data)\n",
    "    learn(input_data)\n",
    "    resultat_simple()\n",
    "    time.sleep(2)"
   ]
  },
  {
   "cell_type": "code",
   "execution_count": null,
   "id": "a25f9889",
   "metadata": {},
   "outputs": [],
   "source": []
  }
 ],
 "metadata": {
  "kernelspec": {
   "display_name": "Python 3 (ipykernel)",
   "language": "python",
   "name": "python3"
  },
  "language_info": {
   "codemirror_mode": {
    "name": "ipython",
    "version": 3
   },
   "file_extension": ".py",
   "mimetype": "text/x-python",
   "name": "python",
   "nbconvert_exporter": "python",
   "pygments_lexer": "ipython3",
   "version": "3.8.3"
  }
 },
 "nbformat": 4,
 "nbformat_minor": 5
}
