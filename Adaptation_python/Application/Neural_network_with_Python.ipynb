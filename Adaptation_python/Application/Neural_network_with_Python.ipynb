{
 "cells": [
  {
   "cell_type": "markdown",
   "id": "d14780f7",
   "metadata": {},
   "source": [
    "# <center> Réseau de neurones avec Python </center>\n",
    "\n",
    "Adaptation en python du code (Javascript) de :\n",
    "\n",
    "- *HEUDIN J.-C., Comprendre le Deep Learning, une introduction aux réseaux de neurones, Science-eBook, Paris, 2016, ISBN:979-1091245449, p.87-117.*"
   ]
  },
  {
   "cell_type": "code",
   "execution_count": 501,
   "id": "a8119e42",
   "metadata": {},
   "outputs": [],
   "source": [
    "import math\n",
    "\n",
    "\n",
    "# trois couches de neurones\n",
    "Input = [0, 0, 0, 0]\n",
    "Hidden = [0, 0, 0, 0]\n",
    "Output = [0, 0]\n",
    "\n",
    "# poids synaptiques\n",
    "Wh = [[0.5, 0.5, 0.5, 0.5],\n",
    "    [0.5, 0.5, 0.5, 0.5],\n",
    "    [0.5, 0.5, 0.5, 0.5],\n",
    "    [0.5, 0.5, 0.5, 0.5]];\n",
    "# poids des connexions de la couche cachée à la couche de sortie (hidden => output)\n",
    "Wo = [[0.5, 0.5, 0.5, 0.5],\n",
    "    [0.5, 0.5, 0.5, 0.5]];\n",
    "\n",
    "# taux d'apprentissage\n",
    "alpha = 0.5\n",
    "\n",
    "\n",
    "# données d'entrées \n",
    "input_data = [1, 0, 1, 0]\n",
    "\n",
    "\n",
    "# liste de données que l'on souhaite obtenir en sortie\n",
    "Target = [1, 0]\n",
    "\n",
    "\n",
    "# fonction d'activation (sigmoïde)\n",
    "def sigmoid(x):\n",
    "    return 1/(1 + math.pow(math.e, (-1 * x)) )\n",
    "\n",
    "# propagation des données (input => output)\n",
    "def propagate(d):\n",
    "    global Input, Hidden, Output, Wh, Wo\n",
    "    for x in range(len(Input)) : \n",
    "        Input[x] = d[x]\n",
    "\n",
    "    # propagation dans la couche cachée\n",
    "    Xh = [0, 0, 0, 0]\n",
    "    # calcul de la somme pondérée avec une double itération\n",
    "    for j in range(len(Hidden)):\n",
    "        for i in range(len(Input)): \n",
    "            Xh[j] += Wh[j][i] * Input[i]\n",
    "       \n",
    "    # fonction d'activation sur les valeurs de Xh\n",
    "    for j in range(len(Hidden)) :\n",
    "        Hidden[j] = sigmoid(Xh[j])\n",
    "\n",
    "    # propagation vers la couche de sortie \n",
    "    Xo = [0, 0]\n",
    "    for k in range(len(Output)) :\n",
    "        for j in range(len(Hidden)) :\n",
    "            Xo[k] += Wo[k][j] * Hidden[j]\n",
    "\n",
    "    # fonction d'activation sur les valeurs de Xo\n",
    "    for k in range(len(Output)) :\n",
    "        Output[k] = sigmoid(Xo[k]) \n",
    "    \n",
    "    return Output\n",
    "\n",
    "# liste contenant les erreurs (différence entre erreur obtenue - erreur souhaitée)\n",
    "Err = []\n",
    "\n",
    "# fonction d'apprentissage\n",
    "def learn(d): \n",
    "\n",
    "    # calcul de l'erreur : Target - Output\n",
    "    for k in range(len(Output)):\n",
    "        err = Target[k] - Output[k]\n",
    "        # on ajoute la différence à la liste\n",
    "        Err.append(err)\n",
    "\n",
    "\n",
    "    # calculer les gradients d'erreurs de la couche de sortie\n",
    "    Wog = [[0, 0, 0, 0], [0, 0, 0, 0]] \n",
    "\n",
    "    for k in range(len(Output)):\n",
    "        for j in range(len(Hidden)):\n",
    "            Wog[k][j] = -Err[k] * Output[k] * (1 - Output[k]) * Hidden[j]\n",
    "\n",
    "    \n",
    "    # calculer les gradients d'erreur de la couche cachée\n",
    "    Whg = [[0, 0, 0, 0], [0, 0, 0, 0],\n",
    "            [0, 0, 0, 0],[0, 0, 0, 0]]\n",
    "\n",
    "    for j in range(len(Hidden)):\n",
    "        for i in range(len(Input)):\n",
    "            e = 0\n",
    "            for k in range(len(Output)):\n",
    "                e += Wo[k][j] * Err[k]\n",
    "            Whg[j][i] = -e * Hidden[j] * (1 - Hidden[j]) * Input[i]\n",
    "\n",
    "    # mise à jour des poids de sortie\n",
    "    for k in range(len(Output)):\n",
    "        for j in range(len(Hidden)):\n",
    "            Wo[k][j] -= alpha * Wog[k][j]\n",
    "\n",
    "    # mise à jour des poids de la couche cachée\n",
    "    for j in range(len(Hidden)):\n",
    "        for i in range(len(Input)):\n",
    "            Wh[j][i] -= alpha * Whg[j][i]\n",
    "\n",
    "    \n",
    "    return Output\n",
    "\n",
    "\n",
    "def resultat():\n",
    "    print(\"----------------------------\")\n",
    "    print(\"Sortie 1 : \", Output[0])\n",
    "    print(\"Erreur 1 : \", Target[0] - Output[0])\n",
    "    print(\"Sortie 2 : \", Output[1])\n",
    "    print(\"Erreur 2 : \", Target[1] - Output[1])\n",
    "    print(\"----------------------------\")\n",
    "    print(\"Valeur attendue : \", Target)\n",
    "    print(\"Valeur obtenue : \", Output)"
   ]
  },
  {
   "cell_type": "markdown",
   "id": "5c250d99",
   "metadata": {},
   "source": [
    "## Test du réseau "
   ]
  },
  {
   "cell_type": "code",
   "execution_count": 432,
   "id": "8ff776c0",
   "metadata": {},
   "outputs": [
    {
     "name": "stdout",
     "output_type": "stream",
     "text": [
      "----------------------------\n",
      "Sortie 1 :  0.8376042493105621\n",
      "Erreur 1 :  0.1623957506894379\n",
      "Sortie 2 :  0.4354408852228531\n",
      "Erreur 2 :  -0.4354408852228531\n",
      "----------------------------\n",
      "Valeur attendue :  [1, 0]\n",
      "Valeur obtenue :  [0.8376042493105621, 0.4354408852228531]\n"
     ]
    }
   ],
   "source": [
    "propagate(input_data)\n",
    "learn(input_data)\n",
    "resultat()"
   ]
  },
  {
   "cell_type": "markdown",
   "id": "a8dcdcec",
   "metadata": {},
   "source": [
    "## Itérations pour reproduire le calcul\n",
    "\n",
    "### 10 itérations :"
   ]
  },
  {
   "cell_type": "code",
   "execution_count": 442,
   "id": "4da567fc",
   "metadata": {},
   "outputs": [
    {
     "name": "stdout",
     "output_type": "stream",
     "text": [
      "----------------------------\n",
      "Sortie 1 :  0.8322186305905105\n",
      "Erreur 1 :  0.1677813694094895\n",
      "Sortie 2 :  0.48268735718413575\n",
      "Erreur 2 :  -0.48268735718413575\n",
      "----------------------------\n",
      "Valeur attendue :  [1, 0]\n",
      "Valeur obtenue :  [0.8322186305905105, 0.48268735718413575]\n"
     ]
    }
   ],
   "source": [
    "for x in range(10):\n",
    "    propagate(input_data)\n",
    "    learn(input_data)\n",
    "    stop += 1\n",
    "\n",
    "resultat()"
   ]
  },
  {
   "cell_type": "markdown",
   "id": "9eb53c4e",
   "metadata": {},
   "source": [
    "### 20 itérations : "
   ]
  },
  {
   "cell_type": "code",
   "execution_count": 443,
   "id": "eb3ba9cb",
   "metadata": {},
   "outputs": [
    {
     "name": "stdout",
     "output_type": "stream",
     "text": [
      "----------------------------\n",
      "Sortie 1 :  0.9343306562234021\n",
      "Erreur 1 :  0.06566934377659794\n",
      "Sortie 2 :  0.044187567490968055\n",
      "Erreur 2 :  -0.044187567490968055\n",
      "----------------------------\n",
      "Valeur attendue :  [1, 0]\n",
      "Valeur obtenue :  [0.9343306562234021, 0.044187567490968055]\n"
     ]
    }
   ],
   "source": [
    "for x in range(20):\n",
    "    propagate(input_data)\n",
    "    learn(input_data)\n",
    "\n",
    "resultat()"
   ]
  },
  {
   "cell_type": "markdown",
   "id": "b5cba934",
   "metadata": {},
   "source": [
    "### 100 itérations : "
   ]
  },
  {
   "cell_type": "code",
   "execution_count": 444,
   "id": "328fb749",
   "metadata": {},
   "outputs": [
    {
     "name": "stdout",
     "output_type": "stream",
     "text": [
      "----------------------------\n",
      "Sortie 1 :  0.9819262444849162\n",
      "Erreur 1 :  0.018073755515083834\n",
      "Sortie 2 :  0.005126941904560985\n",
      "Erreur 2 :  -0.005126941904560985\n",
      "----------------------------\n",
      "Valeur attendue :  [1, 0]\n",
      "Valeur obtenue :  [0.9819262444849162, 0.005126941904560985]\n"
     ]
    }
   ],
   "source": [
    "for x in range(100):\n",
    "    propagate(input_data)\n",
    "    learn(input_data)\n",
    "\n",
    "resultat()"
   ]
  },
  {
   "cell_type": "markdown",
   "id": "0f17b124",
   "metadata": {},
   "source": [
    "---\n",
    "\n",
    "## Exemple : "
   ]
  },
  {
   "cell_type": "code",
   "execution_count": 493,
   "id": "61ca462e",
   "metadata": {},
   "outputs": [],
   "source": [
    "import time\n",
    "\n",
    "def resultat_simple():\n",
    "        print(\"Valeur obtenue : \", Output, end=\"\\n\")\n",
    "        \n",
    "        # affichage des erreurs\n",
    "        liste_erreurs = []\n",
    "        for x in range(len(Output)):\n",
    "            err = Output[x] - Target[x]\n",
    "            liste_erreurs.append(err)\n",
    "        print(\"-----> Erreurs : \", liste_erreurs[0], \" \", liste_erreurs[1], end=\"\\n\")    \n",
    "        \n",
    "def application():\n",
    "    propagate(input_data)\n",
    "    learn(input_data)\n",
    "    resultat_simple()"
   ]
  },
  {
   "cell_type": "code",
   "execution_count": 502,
   "id": "f996dc54",
   "metadata": {},
   "outputs": [
    {
     "name": "stdout",
     "output_type": "stream",
     "text": [
      "Nombre d'itérations : 20\n",
      "\n",
      "Valeur attendue :  [1, 0]\n",
      "-----------\n",
      "Epoch  0 :\n",
      "Valeur obtenue :  [0.8118562749129378, 0.8118562749129378]\n",
      "-----> Erreurs :  -0.18814372508706223   0.8118562749129378\n",
      "Epoch  1 :\n",
      "Valeur obtenue :  [0.8127337851073385, 0.7870666477788117]\n",
      "-----> Erreurs :  -0.1872662148926615   0.7870666477788117\n",
      "Epoch  2 :\n",
      "Valeur obtenue :  [0.8136568662605441, 0.7592185129816774]\n",
      "-----> Erreurs :  -0.18634313373945588   0.7592185129816774\n",
      "Epoch  3 :\n",
      "Valeur obtenue :  [0.8147627248346812, 0.7282303438380222]\n",
      "-----> Erreurs :  -0.18523727516531885   0.7282303438380222\n",
      "Epoch  4 :\n",
      "Valeur obtenue :  [0.8161915596652959, 0.694095878060527]\n",
      "-----> Erreurs :  -0.18380844033470412   0.694095878060527\n",
      "Epoch  5 :\n",
      "Valeur obtenue :  [0.8180785892206517, 0.6568920986311905]\n",
      "-----> Erreurs :  -0.1819214107793483   0.6568920986311905\n",
      "Epoch  6 :\n",
      "Valeur obtenue :  [0.8205449087349774, 0.6167899242793717]\n",
      "-----> Erreurs :  -0.17945509126502257   0.6167899242793717\n",
      "Epoch  7 :\n",
      "Valeur obtenue :  [0.8236878422178685, 0.574073318533018]\n",
      "-----> Erreurs :  -0.1763121577821315   0.574073318533018\n",
      "Epoch  8 :\n",
      "Valeur obtenue :  [0.8275715309461473, 0.5291698016736281]\n",
      "-----> Erreurs :  -0.17242846905385267   0.5291698016736281\n",
      "Epoch  9 :\n",
      "Valeur obtenue :  [0.8322186305905105, 0.48268735718413575]\n",
      "-----> Erreurs :  -0.1677813694094895   0.48268735718413575\n",
      "Epoch  10 :\n",
      "Valeur obtenue :  [0.8376042493105621, 0.4354408852228531]\n",
      "-----> Erreurs :  -0.1623957506894379   0.4354408852228531\n",
      "Epoch  11 :\n",
      "Valeur obtenue :  [0.8436535873868003, 0.388441791774077]\n",
      "-----> Erreurs :  -0.1563464126131997   0.388441791774077\n",
      "Epoch  12 :\n",
      "Valeur obtenue :  [0.8502448616901739, 0.342827109872241]\n",
      "-----> Erreurs :  -0.14975513830982612   0.342827109872241\n",
      "Epoch  13 :\n",
      "Valeur obtenue :  [0.8572186010237544, 0.2997267819414524]\n",
      "-----> Erreurs :  -0.14278139897624564   0.2997267819414524\n",
      "Epoch  14 :\n",
      "Valeur obtenue :  [0.8643930189917282, 0.26010212849567976]\n",
      "-----> Erreurs :  -0.13560698100827184   0.26010212849567976\n",
      "Epoch  15 :\n",
      "Valeur obtenue :  [0.8715831966971647, 0.22461161325844156]\n",
      "-----> Erreurs :  -0.12841680330283534   0.22461161325844156\n",
      "Epoch  16 :\n",
      "Valeur obtenue :  [0.8786201766549162, 0.19355090518409207]\n",
      "-----> Erreurs :  -0.12137982334508379   0.19355090518409207\n",
      "Epoch  17 :\n",
      "Valeur obtenue :  [0.8853658338896936, 0.16687784309617318]\n",
      "-----> Erreurs :  -0.11463416611030641   0.16687784309617318\n",
      "Epoch  18 :\n",
      "Valeur obtenue :  [0.891720845308284, 0.1442965824302225]\n",
      "-----> Erreurs :  -0.108279154691716   0.1442965824302225\n",
      "Epoch  19 :\n",
      "Valeur obtenue :  [0.8976254361050008, 0.12536115844946397]\n",
      "-----> Erreurs :  -0.10237456389499922   0.12536115844946397\n",
      "\n",
      "---------\n",
      "Fin du programme.\n"
     ]
    }
   ],
   "source": [
    "# Définir le nombre d'itérations\n",
    "iterations = 20\n",
    "\n",
    "# Messages : nombre d'itérations et les valeurs attendues\n",
    "print(\"Nombre d'itérations :\", iterations)\n",
    "print(\"\\nValeur attendue : \", Target, end=\"\\n-----------\\n\")    \n",
    "\n",
    "# Apprentissage\n",
    "for i in range(iterations):\n",
    "    print(\"Epoch \", i, \":\")\n",
    "    application()\n",
    "    time.sleep(1)\n",
    "        \n",
    "# Message : fin du programme        \n",
    "print(\"\\n---------\\nFin du programme.\")"
   ]
  }
 ],
 "metadata": {
  "kernelspec": {
   "display_name": "Python 3 (ipykernel)",
   "language": "python",
   "name": "python3"
  },
  "language_info": {
   "codemirror_mode": {
    "name": "ipython",
    "version": 3
   },
   "file_extension": ".py",
   "mimetype": "text/x-python",
   "name": "python",
   "nbconvert_exporter": "python",
   "pygments_lexer": "ipython3",
   "version": "3.8.3"
  }
 },
 "nbformat": 4,
 "nbformat_minor": 5
}
