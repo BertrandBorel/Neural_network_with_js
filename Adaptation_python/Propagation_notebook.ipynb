{
 "cells": [
  {
   "cell_type": "code",
   "execution_count": 143,
   "id": "c6a8035d",
   "metadata": {},
   "outputs": [],
   "source": [
    "'''Création d'un réseau de neurones :\n",
    "Adaptation en Python.\n",
    "Propagation des données à l'intérieur du réseau de neurones, de l'input à l'output.\n",
    "\n",
    "Source : \n",
    "HEUDIN J.-C., Comprendre le Deep Learning, une introduction aux réseaux de neurones, Science-eBook, Paris, 2016, ISBN:979-1091245449, p.87-117.\n",
    "'''\n",
    "\n",
    "\n",
    "import math\n",
    "\n",
    "# trois couches de neurones\n",
    "Input = [0, 0, 0, 0]\n",
    "Hidden = [0, 0, 0, 0]\n",
    "Output = [0, 0]\n",
    "\n",
    "# poids synaptiques\n",
    "Wh = [[0.5, 0.5, 0.5, 0.5],\n",
    "    [0.5, 0.5, 0.5, 0.5],\n",
    "    [0.5, 0.5, 0.5, 0.5],\n",
    "    [0.5, 0.5, 0.5, 0.5]];\n",
    "# poids des connexions de la couche cachée à la couche de sortie (hidden => output)\n",
    "Wo = [[0.5, 0.5, 0.5, 0.5],\n",
    "    [0.5, 0.5, 0.5, 0.5]];\n",
    "\n",
    "# données d'entrées \n",
    "input_data = [0, 1, 0, 1]\n",
    "\n",
    "\n",
    "\n",
    "# fonction d'activation (sigmoïde)\n",
    "def sigmoid(x):\n",
    "    return 1/(1 + math.pow(math.e, (-1 * x)) )\n",
    "\n"
   ]
  },
  {
   "cell_type": "code",
   "execution_count": 149,
   "id": "18dbaf45",
   "metadata": {},
   "outputs": [],
   "source": [
    "# propaation des données (input => output)\n",
    "def propagate(d):\n",
    "    global Input, Hidden, Output, Wh, Wo\n",
    "    for x in range(len(Input)) : \n",
    "        Input[x] = d[x]\n",
    "\n",
    "    Xh = [0, 0, 0, 0]\n",
    "\n",
    "    # calcul de la somme pondérée avec une double itération\n",
    "    for j in range(len(Hidden)):\n",
    "        for i in range(len(Input)) :\n",
    "            Xh[j] += Wh[j][i] * Input[i]\n",
    "\n",
    "\n",
    "    # fonction d'activation sur les valeurs de Xh\n",
    "    for j in range(len(Hidden)) :\n",
    "        Hidden[j] = sigmoid(Xh[j])\n",
    "\n",
    "    # propagation vers la couche de sortie \n",
    "    Xo = [0, 0]\n",
    "    for k in range(len(Output)) :\n",
    "        for j in range(len(Hidden)) :\n",
    "            Xo[k] += Wo[k][j] * Hidden[j]\n",
    "\n",
    "    # fonction d'activation sur les valeurs de Xo\n",
    "    for k in range(len(Output)) :\n",
    "        Output[k] = sigmoid(Xo[k]) \n",
    "        \n",
    "    return Output"
   ]
  },
  {
   "cell_type": "code",
   "execution_count": 150,
   "id": "856e97c4",
   "metadata": {},
   "outputs": [
    {
     "data": {
      "text/plain": [
       "[0.8118562749129378, 0.8118562749129378]"
      ]
     },
     "execution_count": 150,
     "metadata": {},
     "output_type": "execute_result"
    }
   ],
   "source": [
    "propagate(input_data)"
   ]
  }
 ],
 "metadata": {
  "kernelspec": {
   "display_name": "Python 3 (ipykernel)",
   "language": "python",
   "name": "python3"
  },
  "language_info": {
   "codemirror_mode": {
    "name": "ipython",
    "version": 3
   },
   "file_extension": ".py",
   "mimetype": "text/x-python",
   "name": "python",
   "nbconvert_exporter": "python",
   "pygments_lexer": "ipython3",
   "version": "3.8.3"
  }
 },
 "nbformat": 4,
 "nbformat_minor": 5
}
